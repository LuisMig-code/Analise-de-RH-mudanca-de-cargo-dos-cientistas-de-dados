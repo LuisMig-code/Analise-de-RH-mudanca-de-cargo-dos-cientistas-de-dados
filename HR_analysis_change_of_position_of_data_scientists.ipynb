{
  "nbformat": 4,
  "nbformat_minor": 0,
  "metadata": {
    "colab": {
      "name": "HR analysis - change of position of data scientists.ipynb",
      "provenance": [],
      "authorship_tag": "ABX9TyNKxcrdnw+Xn7ln+oArSP/y",
      "include_colab_link": true
    },
    "kernelspec": {
      "name": "python3",
      "display_name": "Python 3"
    },
    "language_info": {
      "name": "python"
    }
  },
  "cells": [
    {
      "cell_type": "markdown",
      "metadata": {
        "id": "view-in-github",
        "colab_type": "text"
      },
      "source": [
        "<a href=\"https://colab.research.google.com/github/LuisMig-code/Analise-de-RH-mudanca-de-cargo-dos-cientistas-de-dados/blob/main/HR_analysis_change_of_position_of_data_scientists.ipynb\" target=\"_parent\"><img src=\"https://colab.research.google.com/assets/colab-badge.svg\" alt=\"Open In Colab\"/></a>"
      ]
    },
    {
      "cell_type": "markdown",
      "metadata": {
        "id": "yRd4xd0SidZc"
      },
      "source": [
        "# HR Analysis - Change of position of data scientists on Linkedin"
      ]
    },
    {
      "cell_type": "markdown",
      "metadata": {
        "id": "65mhIk2HifGx"
      },
      "source": [
        "<img src=\"https://cdn.pixabay.com/photo/2020/01/21/17/17/hr-process-4783430_960_720.png\" width=850>"
      ]
    },
    {
      "cell_type": "code",
      "metadata": {
        "id": "Hncek8TahgE3"
      },
      "source": [
        "# importando os pacotes necessários\n",
        "\n",
        "import pandas as pd\n",
        "import numpy as np\n",
        "import seaborn as sns\n",
        "import matplotlib.pyplot as plt"
      ],
      "execution_count": 42,
      "outputs": []
    },
    {
      "cell_type": "markdown",
      "metadata": {
        "id": "ZKRGppRPi2Lf"
      },
      "source": [
        "link to the kaggle data page [here](https://www.kaggle.com/arashnic/hr-analytics-job-change-of-data-scientists)."
      ]
    },
    {
      "cell_type": "markdown",
      "metadata": {
        "id": "3_krE3uSi7nl"
      },
      "source": [
        "## Context:"
      ]
    },
    {
      "cell_type": "markdown",
      "metadata": {
        "id": "Bg5CP722i9Eu"
      },
      "source": [
        "A company which is active in Big Data and Data Science wants to hire data scientists among people who successfully pass some courses which conduct by the company. Many people signup for their training. Company wants to know which of these candidates are really wants to work for the company after training or looking for a new employment because it helps to reduce the cost and time as well as the quality of training or planning the courses and categorization of candidates. Information related to demographics, education, experience are in hands from candidates signup and enrollment."
      ]
    },
    {
      "cell_type": "code",
      "metadata": {
        "id": "x85yHzHki1u0"
      },
      "source": [
        "# importando os dados\n",
        "df = pd.read_csv(\"https://raw.githubusercontent.com/LuisMig-code/Analise-de-RH-mudanca-de-cargo-dos-cientistas-de-dados/main/aug_train.csv\")\n",
        "df_sub = pd.read_csv(\"https://raw.githubusercontent.com/LuisMig-code/Analise-de-RH-mudanca-de-cargo-dos-cientistas-de-dados/main/aug_test.csv\")"
      ],
      "execution_count": 43,
      "outputs": []
    },
    {
      "cell_type": "code",
      "metadata": {
        "colab": {
          "base_uri": "https://localhost:8080/",
          "height": 204
        },
        "id": "XuQsncUCjj_k",
        "outputId": "94e00715-55ea-4798-d706-388aa2082d54"
      },
      "source": [
        "df.head()"
      ],
      "execution_count": 44,
      "outputs": [
        {
          "output_type": "execute_result",
          "data": {
            "text/html": [
              "<div>\n",
              "<style scoped>\n",
              "    .dataframe tbody tr th:only-of-type {\n",
              "        vertical-align: middle;\n",
              "    }\n",
              "\n",
              "    .dataframe tbody tr th {\n",
              "        vertical-align: top;\n",
              "    }\n",
              "\n",
              "    .dataframe thead th {\n",
              "        text-align: right;\n",
              "    }\n",
              "</style>\n",
              "<table border=\"1\" class=\"dataframe\">\n",
              "  <thead>\n",
              "    <tr style=\"text-align: right;\">\n",
              "      <th></th>\n",
              "      <th>enrollee_id</th>\n",
              "      <th>city</th>\n",
              "      <th>city_development_index</th>\n",
              "      <th>gender</th>\n",
              "      <th>relevent_experience</th>\n",
              "      <th>enrolled_university</th>\n",
              "      <th>education_level</th>\n",
              "      <th>major_discipline</th>\n",
              "      <th>experience</th>\n",
              "      <th>company_size</th>\n",
              "      <th>company_type</th>\n",
              "      <th>last_new_job</th>\n",
              "      <th>training_hours</th>\n",
              "      <th>target</th>\n",
              "    </tr>\n",
              "  </thead>\n",
              "  <tbody>\n",
              "    <tr>\n",
              "      <th>0</th>\n",
              "      <td>8949</td>\n",
              "      <td>city_103</td>\n",
              "      <td>0.920</td>\n",
              "      <td>Male</td>\n",
              "      <td>Has relevent experience</td>\n",
              "      <td>no_enrollment</td>\n",
              "      <td>Graduate</td>\n",
              "      <td>STEM</td>\n",
              "      <td>&gt;20</td>\n",
              "      <td>NaN</td>\n",
              "      <td>NaN</td>\n",
              "      <td>1</td>\n",
              "      <td>36</td>\n",
              "      <td>1.0</td>\n",
              "    </tr>\n",
              "    <tr>\n",
              "      <th>1</th>\n",
              "      <td>29725</td>\n",
              "      <td>city_40</td>\n",
              "      <td>0.776</td>\n",
              "      <td>Male</td>\n",
              "      <td>No relevent experience</td>\n",
              "      <td>no_enrollment</td>\n",
              "      <td>Graduate</td>\n",
              "      <td>STEM</td>\n",
              "      <td>15</td>\n",
              "      <td>50-99</td>\n",
              "      <td>Pvt Ltd</td>\n",
              "      <td>&gt;4</td>\n",
              "      <td>47</td>\n",
              "      <td>0.0</td>\n",
              "    </tr>\n",
              "    <tr>\n",
              "      <th>2</th>\n",
              "      <td>11561</td>\n",
              "      <td>city_21</td>\n",
              "      <td>0.624</td>\n",
              "      <td>NaN</td>\n",
              "      <td>No relevent experience</td>\n",
              "      <td>Full time course</td>\n",
              "      <td>Graduate</td>\n",
              "      <td>STEM</td>\n",
              "      <td>5</td>\n",
              "      <td>NaN</td>\n",
              "      <td>NaN</td>\n",
              "      <td>never</td>\n",
              "      <td>83</td>\n",
              "      <td>0.0</td>\n",
              "    </tr>\n",
              "    <tr>\n",
              "      <th>3</th>\n",
              "      <td>33241</td>\n",
              "      <td>city_115</td>\n",
              "      <td>0.789</td>\n",
              "      <td>NaN</td>\n",
              "      <td>No relevent experience</td>\n",
              "      <td>NaN</td>\n",
              "      <td>Graduate</td>\n",
              "      <td>Business Degree</td>\n",
              "      <td>&lt;1</td>\n",
              "      <td>NaN</td>\n",
              "      <td>Pvt Ltd</td>\n",
              "      <td>never</td>\n",
              "      <td>52</td>\n",
              "      <td>1.0</td>\n",
              "    </tr>\n",
              "    <tr>\n",
              "      <th>4</th>\n",
              "      <td>666</td>\n",
              "      <td>city_162</td>\n",
              "      <td>0.767</td>\n",
              "      <td>Male</td>\n",
              "      <td>Has relevent experience</td>\n",
              "      <td>no_enrollment</td>\n",
              "      <td>Masters</td>\n",
              "      <td>STEM</td>\n",
              "      <td>&gt;20</td>\n",
              "      <td>50-99</td>\n",
              "      <td>Funded Startup</td>\n",
              "      <td>4</td>\n",
              "      <td>8</td>\n",
              "      <td>0.0</td>\n",
              "    </tr>\n",
              "  </tbody>\n",
              "</table>\n",
              "</div>"
            ],
            "text/plain": [
              "   enrollee_id      city  ...  training_hours target\n",
              "0         8949  city_103  ...              36    1.0\n",
              "1        29725   city_40  ...              47    0.0\n",
              "2        11561   city_21  ...              83    0.0\n",
              "3        33241  city_115  ...              52    1.0\n",
              "4          666  city_162  ...               8    0.0\n",
              "\n",
              "[5 rows x 14 columns]"
            ]
          },
          "metadata": {
            "tags": []
          },
          "execution_count": 44
        }
      ]
    },
    {
      "cell_type": "code",
      "metadata": {
        "colab": {
          "base_uri": "https://localhost:8080/"
        },
        "id": "4JUNeJaEjm8a",
        "outputId": "ef7986a7-01aa-4dce-d647-1ad3edd591f4"
      },
      "source": [
        "df.isnull().sum()"
      ],
      "execution_count": 45,
      "outputs": [
        {
          "output_type": "execute_result",
          "data": {
            "text/plain": [
              "enrollee_id                  0\n",
              "city                         0\n",
              "city_development_index       0\n",
              "gender                    4508\n",
              "relevent_experience          0\n",
              "enrolled_university        386\n",
              "education_level            460\n",
              "major_discipline          2813\n",
              "experience                  65\n",
              "company_size              5938\n",
              "company_type              6140\n",
              "last_new_job               423\n",
              "training_hours               0\n",
              "target                       0\n",
              "dtype: int64"
            ]
          },
          "metadata": {
            "tags": []
          },
          "execution_count": 45
        }
      ]
    },
    {
      "cell_type": "markdown",
      "metadata": {
        "id": "SqNIBQV8jumF"
      },
      "source": [
        "For the purposes of understanding, I will leave here a kind of dictionary of the variables, with their names and what they mean:"
      ]
    },
    {
      "cell_type": "markdown",
      "metadata": {
        "id": "GuyeE0QWj1EP"
      },
      "source": [
        "- **enrollee_id** : Unique ID for candidate\n",
        "\n",
        "- **city**: City code\n",
        "\n",
        "- **city_ development _index** : Developement index of the city (scaled)\n",
        "\n",
        "- **gender**: Gender of candidate\n",
        "\n",
        "- **relevent_experience**: Relevant experience of candidate\n",
        "\n",
        "- **enrolled_university**: Type of University course enrolled if any\n",
        "\n",
        "- **education_level**: Education level of candidate\n",
        "\n",
        "- **major_discipline** :Education major discipline of candidate\n",
        "\n",
        "- **experience**: Candidate total experience in years\n",
        "\n",
        "- **company_size**: No of employees in current employer's company\n",
        "\n",
        "- **company_type** : Type of current employer\n",
        "\n",
        "- **lastnewjob**: Difference in years between previous job and current job\n",
        "\n",
        "- **training_hours**: training hours completed\n",
        "\n",
        "- **target**: 0 – Not looking for job change, 1 – Looking for a job change"
      ]
    },
    {
      "cell_type": "markdown",
      "metadata": {
        "id": "dHCVsUGQkIge"
      },
      "source": [
        "## Pre-processing of data :"
      ]
    },
    {
      "cell_type": "markdown",
      "metadata": {
        "id": "QBnsEFiMkNxX"
      },
      "source": [
        "Removing null data from the \"**gender**\" category"
      ]
    },
    {
      "cell_type": "code",
      "metadata": {
        "colab": {
          "base_uri": "https://localhost:8080/"
        },
        "id": "8czvO7ZSjpTK",
        "outputId": "8f33dee1-eca2-4005-d109-65b7d4d4c16c"
      },
      "source": [
        "df.dropna(subset = [\"gender\"], inplace=True)\n",
        "df.gender.unique()"
      ],
      "execution_count": 46,
      "outputs": [
        {
          "output_type": "execute_result",
          "data": {
            "text/plain": [
              "array(['Male', 'Female', 'Other'], dtype=object)"
            ]
          },
          "metadata": {
            "tags": []
          },
          "execution_count": 46
        }
      ]
    },
    {
      "cell_type": "markdown",
      "metadata": {
        "id": "fpahYocSkbpF"
      },
      "source": [
        "In our analysis we will start from the assumption that the registered individuals left some empty fields by choice (with the exception of the \"gender\" field), for this we will **assign a value to the missing data**."
      ]
    },
    {
      "cell_type": "code",
      "metadata": {
        "id": "S1_JAdizkR7E"
      },
      "source": [
        "# preenchendo os campos vazios por uma string\n",
        "df = df.fillna(\"did_not_answer\")"
      ],
      "execution_count": 47,
      "outputs": []
    },
    {
      "cell_type": "markdown",
      "metadata": {
        "id": "7O2R36yDkr0E"
      },
      "source": [
        "The \"**city**\" field returns us an identifier of the user's city, however it is in \"str\" format, this is in text format, we want it to be numeric."
      ]
    },
    {
      "cell_type": "code",
      "metadata": {
        "id": "hXA5LkiKkkz0"
      },
      "source": [
        "df.city = (df.city.str.replace(\"city_\",\"\")).astype(int)"
      ],
      "execution_count": 48,
      "outputs": []
    },
    {
      "cell_type": "markdown",
      "metadata": {
        "id": "rVp1_tYUk2Am"
      },
      "source": [
        "Let's check out some general information from our dataset with the info attribute:"
      ]
    },
    {
      "cell_type": "code",
      "metadata": {
        "colab": {
          "base_uri": "https://localhost:8080/"
        },
        "id": "mv-eP_kYkvcR",
        "outputId": "0b3ac30c-bb7e-4b07-b5d3-39b02b4c02c1"
      },
      "source": [
        "df.info()"
      ],
      "execution_count": 49,
      "outputs": [
        {
          "output_type": "stream",
          "text": [
            "<class 'pandas.core.frame.DataFrame'>\n",
            "Int64Index: 14650 entries, 0 to 19156\n",
            "Data columns (total 14 columns):\n",
            " #   Column                  Non-Null Count  Dtype  \n",
            "---  ------                  --------------  -----  \n",
            " 0   enrollee_id             14650 non-null  int64  \n",
            " 1   city                    14650 non-null  int64  \n",
            " 2   city_development_index  14650 non-null  float64\n",
            " 3   gender                  14650 non-null  object \n",
            " 4   relevent_experience     14650 non-null  object \n",
            " 5   enrolled_university     14650 non-null  object \n",
            " 6   education_level         14650 non-null  object \n",
            " 7   major_discipline        14650 non-null  object \n",
            " 8   experience              14650 non-null  object \n",
            " 9   company_size            14650 non-null  object \n",
            " 10  company_type            14650 non-null  object \n",
            " 11  last_new_job            14650 non-null  object \n",
            " 12  training_hours          14650 non-null  int64  \n",
            " 13  target                  14650 non-null  float64\n",
            "dtypes: float64(2), int64(3), object(9)\n",
            "memory usage: 1.7+ MB\n"
          ],
          "name": "stdout"
        }
      ]
    },
    {
      "cell_type": "markdown",
      "metadata": {
        "id": "LWiCi-WdlC4Q"
      },
      "source": [
        "Note that many columns have \"dtype\" as \"object\", in order to improve the performance of our * dataset * and make it less disk memory, let's change this \"dtype\" to \"category\" which is what these variables represent:"
      ]
    },
    {
      "cell_type": "code",
      "metadata": {
        "id": "lKWHjiVRk4KZ"
      },
      "source": [
        "df.gender = df.gender.astype('category') \n",
        "df.relevent_experience = df.relevent_experience.astype('category') \n",
        "df.enrolled_university = df.enrolled_university.astype('category') \n",
        "df.education_level = df.education_level.astype('category') \n",
        "df.major_discipline = df.major_discipline.astype('category') \n",
        "df.experience = df.experience.astype('category') \n",
        "df.company_size = df.company_size.astype('category') \n",
        "df.company_type = df.company_type.astype('category') \n",
        "df.last_new_job = df.last_new_job.astype('category') "
      ],
      "execution_count": 50,
      "outputs": []
    },
    {
      "cell_type": "markdown",
      "metadata": {
        "id": "K673WSqLlclJ"
      },
      "source": [
        "Now our dataset is better optimized"
      ]
    },
    {
      "cell_type": "code",
      "metadata": {
        "colab": {
          "base_uri": "https://localhost:8080/"
        },
        "id": "Mpc1x26jlE4q",
        "outputId": "1e9634f8-6ed0-4811-e277-bee789dbb81b"
      },
      "source": [
        "df.info()"
      ],
      "execution_count": 51,
      "outputs": [
        {
          "output_type": "stream",
          "text": [
            "<class 'pandas.core.frame.DataFrame'>\n",
            "Int64Index: 14650 entries, 0 to 19156\n",
            "Data columns (total 14 columns):\n",
            " #   Column                  Non-Null Count  Dtype   \n",
            "---  ------                  --------------  -----   \n",
            " 0   enrollee_id             14650 non-null  int64   \n",
            " 1   city                    14650 non-null  int64   \n",
            " 2   city_development_index  14650 non-null  float64 \n",
            " 3   gender                  14650 non-null  category\n",
            " 4   relevent_experience     14650 non-null  category\n",
            " 5   enrolled_university     14650 non-null  category\n",
            " 6   education_level         14650 non-null  category\n",
            " 7   major_discipline        14650 non-null  category\n",
            " 8   experience              14650 non-null  category\n",
            " 9   company_size            14650 non-null  category\n",
            " 10  company_type            14650 non-null  category\n",
            " 11  last_new_job            14650 non-null  category\n",
            " 12  training_hours          14650 non-null  int64   \n",
            " 13  target                  14650 non-null  float64 \n",
            "dtypes: category(9), float64(2), int64(3)\n",
            "memory usage: 818.4 KB\n"
          ],
          "name": "stdout"
        }
      ]
    },
    {
      "cell_type": "markdown",
      "metadata": {
        "id": "yrbwsdrfliXG"
      },
      "source": [
        "We can see that we have more data of value 0 than data of value 1, this will cause us problems when creating our model, but we will find a way around this issue."
      ]
    },
    {
      "cell_type": "markdown",
      "metadata": {
        "id": "VnFkEwv9ljOT"
      },
      "source": [
        "As much of our data is in the form of a string (str), that is, in the form of text, we will first change the data in our columns to numeric values, assigning values to them."
      ]
    },
    {
      "cell_type": "markdown",
      "metadata": {
        "id": "p3aP4mk8lwG6"
      },
      "source": [
        "## Assigning numerical values to our data"
      ]
    },
    {
      "cell_type": "code",
      "metadata": {
        "id": "9MfU7E-jle7i"
      },
      "source": [
        "# gender\n",
        "mapa = {\n",
        "    'Male':1,\n",
        "    'Female':2,\n",
        "    'Other':3\n",
        "}\n",
        "df.gender = df.gender.map(mapa).astype(int)"
      ],
      "execution_count": 52,
      "outputs": []
    },
    {
      "cell_type": "code",
      "metadata": {
        "id": "4a24RasQl18V"
      },
      "source": [
        "# relevent_experience\n",
        "mapa = {\n",
        "    'Has relevent experience':1,\n",
        "    'No relevent experience':2\n",
        "}\n",
        "df.relevent_experience = df.relevent_experience.map(mapa).astype(int)"
      ],
      "execution_count": 53,
      "outputs": []
    },
    {
      "cell_type": "code",
      "metadata": {
        "id": "WqOlF0yWl5ny"
      },
      "source": [
        "# enrolled_university\n",
        "mapa = {\n",
        "    'did_not_answer': 0,\n",
        "    'no_enrollment':1,\n",
        "    'Part time course':2,\n",
        "    'Full time course':3\n",
        "}\n",
        "df.enrolled_university = df.enrolled_university.map(mapa).astype(int)"
      ],
      "execution_count": 54,
      "outputs": []
    },
    {
      "cell_type": "code",
      "metadata": {
        "id": "LN1SQNFil9tB"
      },
      "source": [
        "# education_level\n",
        "mapa = {\n",
        "    'did_not_answer':0,\n",
        "    'Primary School':1,\n",
        "    'High School' : 2,\n",
        "    'Graduate' : 3,\n",
        "    'Masters':4,\n",
        "    'Phd':5\n",
        "}\n",
        "df.education_level = df.education_level.map(mapa).astype(int)"
      ],
      "execution_count": 55,
      "outputs": []
    },
    {
      "cell_type": "code",
      "metadata": {
        "id": "_s_zmu_nmFjB"
      },
      "source": [
        "# major_discipline\n",
        "mapa = {\n",
        "    'did_not_answer':0,\n",
        "    'STEM':1,\n",
        "    'Arts':2,\n",
        "    'Humanities':3,\n",
        "    'Business Degree':4,\n",
        "    'No Major' : 5,\n",
        "    'Other': 6\n",
        "}\n",
        "\n",
        "df.major_discipline = df.major_discipline.map(mapa).astype(int)"
      ],
      "execution_count": 56,
      "outputs": []
    },
    {
      "cell_type": "code",
      "metadata": {
        "id": "9vwPj8xwmIzy"
      },
      "source": [
        "# experience\n",
        "\n",
        "## removendo valores STR \n",
        "df.experience = (df.experience.str.replace(\">\",''))\n",
        "df.experience = (df.experience.str.replace(\"<\",''))\n",
        "df.experience = (df.experience.str.replace(\"did_not_answer\",'0'))\n",
        "\n",
        "## mudando o tipo de STR para INT\n",
        "df.experience = df.experience.astype(int).astype(int)"
      ],
      "execution_count": 57,
      "outputs": []
    },
    {
      "cell_type": "code",
      "metadata": {
        "id": "JEP-zKdKmO5b"
      },
      "source": [
        "# company_size\n",
        "mapa = {\n",
        "    'did_not_answer':0,\n",
        "    '50-99' : 1,\n",
        "    '<10' : 1,\n",
        "    '10/49' : 1,\n",
        "\n",
        "    '100-500':2,\n",
        "    '500-999':2,\n",
        "\n",
        "    '1000-4999':3,\n",
        "    '5000-9999':3,\n",
        "    '10000+':3\n",
        "}\n",
        "\n",
        "df.company_size = df.company_size.map(mapa).astype(int)"
      ],
      "execution_count": 58,
      "outputs": []
    },
    {
      "cell_type": "code",
      "metadata": {
        "id": "z8G04_vvmSzb"
      },
      "source": [
        "# company_type\n",
        "mapa = {\n",
        "    'did_not_answer':0,\n",
        "    'Pvt Ltd':1,\n",
        "    'Funded Startup' : 2,\n",
        "    'Early Stage Startup' : 3,\n",
        "    'Other' : 4,\n",
        "    'Public Sector' : 5,\n",
        "    'NGO':6\n",
        "}\n",
        "df.company_type = df.company_type.map(mapa).astype(int)"
      ],
      "execution_count": 59,
      "outputs": []
    },
    {
      "cell_type": "code",
      "metadata": {
        "id": "FkbhtOFLmVaS"
      },
      "source": [
        "# last_new_job\n",
        "mapa = {\n",
        "    'did_not_answer' : 0,\n",
        "    '1':1,\n",
        "    '2':2,\n",
        "    '3':3,\n",
        "    '4':4,\n",
        "    '>4':5,\n",
        "    'never':6\n",
        "}\n",
        "\n",
        "df.last_new_job = df.last_new_job.map(mapa).astype(int)"
      ],
      "execution_count": 60,
      "outputs": []
    },
    {
      "cell_type": "code",
      "metadata": {
        "colab": {
          "base_uri": "https://localhost:8080/",
          "height": 204
        },
        "id": "Hc-5CKBmmdfi",
        "outputId": "441b301a-cf21-4c55-b71b-e5d51ab599ac"
      },
      "source": [
        "# final result:\n",
        "df.head(5)"
      ],
      "execution_count": 61,
      "outputs": [
        {
          "output_type": "execute_result",
          "data": {
            "text/html": [
              "<div>\n",
              "<style scoped>\n",
              "    .dataframe tbody tr th:only-of-type {\n",
              "        vertical-align: middle;\n",
              "    }\n",
              "\n",
              "    .dataframe tbody tr th {\n",
              "        vertical-align: top;\n",
              "    }\n",
              "\n",
              "    .dataframe thead th {\n",
              "        text-align: right;\n",
              "    }\n",
              "</style>\n",
              "<table border=\"1\" class=\"dataframe\">\n",
              "  <thead>\n",
              "    <tr style=\"text-align: right;\">\n",
              "      <th></th>\n",
              "      <th>enrollee_id</th>\n",
              "      <th>city</th>\n",
              "      <th>city_development_index</th>\n",
              "      <th>gender</th>\n",
              "      <th>relevent_experience</th>\n",
              "      <th>enrolled_university</th>\n",
              "      <th>education_level</th>\n",
              "      <th>major_discipline</th>\n",
              "      <th>experience</th>\n",
              "      <th>company_size</th>\n",
              "      <th>company_type</th>\n",
              "      <th>last_new_job</th>\n",
              "      <th>training_hours</th>\n",
              "      <th>target</th>\n",
              "    </tr>\n",
              "  </thead>\n",
              "  <tbody>\n",
              "    <tr>\n",
              "      <th>0</th>\n",
              "      <td>8949</td>\n",
              "      <td>103</td>\n",
              "      <td>0.920</td>\n",
              "      <td>1</td>\n",
              "      <td>1</td>\n",
              "      <td>1</td>\n",
              "      <td>3</td>\n",
              "      <td>1</td>\n",
              "      <td>20</td>\n",
              "      <td>0</td>\n",
              "      <td>0</td>\n",
              "      <td>1</td>\n",
              "      <td>36</td>\n",
              "      <td>1.0</td>\n",
              "    </tr>\n",
              "    <tr>\n",
              "      <th>1</th>\n",
              "      <td>29725</td>\n",
              "      <td>40</td>\n",
              "      <td>0.776</td>\n",
              "      <td>1</td>\n",
              "      <td>2</td>\n",
              "      <td>1</td>\n",
              "      <td>3</td>\n",
              "      <td>1</td>\n",
              "      <td>15</td>\n",
              "      <td>1</td>\n",
              "      <td>1</td>\n",
              "      <td>5</td>\n",
              "      <td>47</td>\n",
              "      <td>0.0</td>\n",
              "    </tr>\n",
              "    <tr>\n",
              "      <th>4</th>\n",
              "      <td>666</td>\n",
              "      <td>162</td>\n",
              "      <td>0.767</td>\n",
              "      <td>1</td>\n",
              "      <td>1</td>\n",
              "      <td>1</td>\n",
              "      <td>4</td>\n",
              "      <td>1</td>\n",
              "      <td>20</td>\n",
              "      <td>1</td>\n",
              "      <td>2</td>\n",
              "      <td>4</td>\n",
              "      <td>8</td>\n",
              "      <td>0.0</td>\n",
              "    </tr>\n",
              "    <tr>\n",
              "      <th>6</th>\n",
              "      <td>28806</td>\n",
              "      <td>160</td>\n",
              "      <td>0.920</td>\n",
              "      <td>1</td>\n",
              "      <td>1</td>\n",
              "      <td>1</td>\n",
              "      <td>2</td>\n",
              "      <td>0</td>\n",
              "      <td>5</td>\n",
              "      <td>1</td>\n",
              "      <td>2</td>\n",
              "      <td>1</td>\n",
              "      <td>24</td>\n",
              "      <td>0.0</td>\n",
              "    </tr>\n",
              "    <tr>\n",
              "      <th>7</th>\n",
              "      <td>402</td>\n",
              "      <td>46</td>\n",
              "      <td>0.762</td>\n",
              "      <td>1</td>\n",
              "      <td>1</td>\n",
              "      <td>1</td>\n",
              "      <td>3</td>\n",
              "      <td>1</td>\n",
              "      <td>13</td>\n",
              "      <td>1</td>\n",
              "      <td>1</td>\n",
              "      <td>5</td>\n",
              "      <td>18</td>\n",
              "      <td>1.0</td>\n",
              "    </tr>\n",
              "  </tbody>\n",
              "</table>\n",
              "</div>"
            ],
            "text/plain": [
              "   enrollee_id  city  ...  training_hours  target\n",
              "0         8949   103  ...              36     1.0\n",
              "1        29725    40  ...              47     0.0\n",
              "4          666   162  ...               8     0.0\n",
              "6        28806   160  ...              24     0.0\n",
              "7          402    46  ...              18     1.0\n",
              "\n",
              "[5 rows x 14 columns]"
            ]
          },
          "metadata": {
            "tags": []
          },
          "execution_count": 61
        }
      ]
    },
    {
      "cell_type": "markdown",
      "metadata": {
        "id": "aG1Mz-pZmiZf"
      },
      "source": [
        "## Exploratory Analysis"
      ]
    },
    {
      "cell_type": "markdown",
      "metadata": {
        "id": "k9XVkL3rmr8a"
      },
      "source": [
        "Done assigning the values, let's start some graphical analysis"
      ]
    },
    {
      "cell_type": "code",
      "metadata": {
        "colab": {
          "base_uri": "https://localhost:8080/",
          "height": 388
        },
        "id": "-bF8VQzHmgtB",
        "outputId": "edfae875-32f3-4c19-dfd1-887545c737ed"
      },
      "source": [
        "plt.figure(figsize=(10,6))\n",
        "ax = sns.countplot(x=df.target)"
      ],
      "execution_count": 62,
      "outputs": [
        {
          "output_type": "display_data",
          "data": {
            "image/png": "[encoded data removed]",
            "text/plain": [
              "<Figure size 720x432 with 1 Axes>"
            ]
          },
          "metadata": {
            "tags": [],
            "needs_background": "light"
          }
        }
      ]
    },
    {
      "cell_type": "markdown",
      "metadata": {
        "id": "NMoIZc9Ym0Yh"
      },
      "source": [
        "We can already see that we have unbalanced classes in our data, that is, more values 0's than 1's. This will cause problems in the predictions of our model, but we will work around it."
      ]
    },
    {
      "cell_type": "code",
      "metadata": {
        "colab": {
          "base_uri": "https://localhost:8080/",
          "height": 761
        },
        "id": "DjhaQE0mmwvL",
        "outputId": "2ce4af24-9884-41c1-9324-5f1ca720c37f"
      },
      "source": [
        "# plotando o heatmap\n",
        "fig, ax = plt.subplots(figsize=(12,11))\n",
        "sns.heatmap(df.drop('enrollee_id', axis=1).corr(), ax=ax , linewidths=.9)\n",
        "plt.show()"
      ],
      "execution_count": 63,
      "outputs": [
        {
          "output_type": "display_data",
          "data": {
            "image/png": "[encoded data removed]",
            "text/plain": [
              "<Figure size 864x792 with 2 Axes>"
            ]
          },
          "metadata": {
            "tags": [],
            "needs_background": "light"
          }
        }
      ]
    },
    {
      "cell_type": "markdown",
      "metadata": {
        "id": "52fcNtZDm8Lv"
      },
      "source": [
        "many of our variables, when related to the \"target\" variable, have negative correlations, that is, they are inversely proportional."
      ]
    },
    {
      "cell_type": "markdown",
      "metadata": {
        "id": "kJcp5_cJnApk"
      },
      "source": [
        "## Machine Learning:\n",
        "\n"
      ]
    },
    {
      "cell_type": "markdown",
      "metadata": {
        "id": "dmTB_BI-nMru"
      },
      "source": [
        "\n",
        "\n",
        "---\n",
        "\n",
        "\n"
      ]
    },
    {
      "cell_type": "markdown",
      "metadata": {
        "id": "MDfSK92gnHju"
      },
      "source": [
        "### First try:"
      ]
    },
    {
      "cell_type": "code",
      "metadata": {
        "id": "cUhBEMRZm2A7"
      },
      "source": [
        "# fazendo import das bibliotecas necessárias\n",
        "from sklearn.model_selection import train_test_split\n",
        "from sklearn.metrics import accuracy_score\n",
        "from sklearn.metrics import classification_report\n",
        "\n",
        "from sklearn.ensemble import RandomForestClassifier"
      ],
      "execution_count": 64,
      "outputs": []
    },
    {
      "cell_type": "code",
      "metadata": {
        "id": "xbv8q_qMnRGU"
      },
      "source": [
        "# definindo as varáveis X e Y:\n",
        "X = df.drop(['enrollee_id','city','target'] , axis=1)\n",
        "y = df['target']"
      ],
      "execution_count": 65,
      "outputs": []
    },
    {
      "cell_type": "code",
      "metadata": {
        "id": "Z5AJTaVVnSXa"
      },
      "source": [
        "# Divisão dos dados:\n",
        "X_treino, X_teste, y_treino, y_teste = train_test_split(X, y, test_size=0.3,stratify = y,shuffle=True,random_state=28)"
      ],
      "execution_count": 66,
      "outputs": []
    },
    {
      "cell_type": "code",
      "metadata": {
        "colab": {
          "base_uri": "https://localhost:8080/"
        },
        "id": "ppw7qCyknT1p",
        "outputId": "d9dfe12b-397a-436a-ee53-cca112f0ca2c"
      },
      "source": [
        "# instanciando o modelo\n",
        "modelo = RandomForestClassifier(random_state=28)\n",
        "\n",
        "# treinando o modelo\n",
        "modelo.fit(X_treino,y_treino)\n",
        "\n",
        "# fazendo previsões com o modelo\n",
        "previsoes = modelo.predict(X_teste)\n",
        "\n",
        "# medindo a acurácia do modelo\n",
        "acuracia = accuracy_score(y_teste,previsoes)\n",
        "\n",
        "print(\"A acurácia foi de: \",acuracia)\n",
        "print(classification_report(y_teste,previsoes))"
      ],
      "execution_count": 67,
      "outputs": [
        {
          "output_type": "stream",
          "text": [
            "A acurácia foi de:  0.7915813424345848\n",
            "              precision    recall  f1-score   support\n",
            "\n",
            "         0.0       0.84      0.90      0.87      3379\n",
            "         1.0       0.56      0.44      0.49      1016\n",
            "\n",
            "    accuracy                           0.79      4395\n",
            "   macro avg       0.70      0.67      0.68      4395\n",
            "weighted avg       0.78      0.79      0.78      4395\n",
            "\n"
          ],
          "name": "stdout"
        }
      ]
    },
    {
      "cell_type": "markdown",
      "metadata": {
        "id": "kpV43a_enb2D"
      },
      "source": [
        "We can see that we obtained an accuracy rate that was quite good, 79%, but are we going to analyze the report of our model better?\n",
        "\n",
        "As we saw earlier, we have unbalanced data, that is, we have more data with a value of 0 than a value of 1. This means that there is a high chance that we have created a model that classifies the values 0 well, as there is more data to be used in the training, while the value 1 there are few to be \"studied\".\n",
        "\n",
        "In the end, we created a model that doesn't generalize the data well, but what do these metrics *precision*, *recall* and *f1-score* mean about our data?\n",
        "\n",
        "They were responsible for bringing me to that conclusion."
      ]
    },
    {
      "cell_type": "markdown",
      "metadata": {
        "id": "a5IjCGo8oJqO"
      },
      "source": [
        "**Precision**: The * precision * refers to the hit rate of one value. Like this? let's say we have 100 values ​​that were classified as 1 and our models classified 98 of them correctly, so the model's precision for value 1 would be 98%, because of the 100 possible values ​​of classification '1', the model got 98 of them correct. It literally measures the accuracy of the model to just 1 rating, not the overall rating, this is called accuracy.\n",
        "\n",
        "**Recall**: The * recall * measures the overall hit rate, using only the correct ratings. Like this? simple:\n",
        "\n",
        "positive_value_values ​​/ (positive_value_values ​​+ negative_value_values)\n",
        "\n",
        "Basically the amount I rated 1, divided by my total hits\n",
        "\n",
        "**F1-Score**: The * f1-score * is simply the weighted average between * recall * and * precision *.\n",
        "\n",
        "<br>\n",
        "\n",
        "I hope that it has become clear the functionality and the way to be calculated for each evaluation parameter"
      ]
    },
    {
      "cell_type": "markdown",
      "metadata": {
        "id": "VmSRa7y1oYhA"
      },
      "source": [
        "**But, after all, how to get around this problem?**"
      ]
    },
    {
      "cell_type": "markdown",
      "metadata": {
        "id": "Xv_nikTLoic7"
      },
      "source": [
        "### **Dealing with unbalanced classes**:"
      ]
    },
    {
      "cell_type": "markdown",
      "metadata": {
        "id": "UTIeC6INooY7"
      },
      "source": [
        "We saw that we have a problem of unbalanced classes, right? let's go to the solution:\n",
        "\n",
        "In a nutshell, and kind of obvious, what we need to do is balance these classes. We can do this in two ways: <br>\n",
        "\n",
        "1) **Decreasing our data** (Undersampling): In this case, we will balance our training data so that they have equal classes, it consists of randomly reducing the examples of the majority class.\n",
        "- **Problems**: As we decrease our data we will have less training data in general, which can result in a model that does not generalize as well, decreasing accuracy; <br>\n",
        "<br>\n",
        "\n",
        "2) **Increasing our data** (Oversampling): In this case we are going to balance our data by increasing the values ​​(target variable) we have in less quantity with those we have in greater quantity and artificial form.\n",
        "- **Problems**: Depending on the quantity, we may have models that make the training data correct, but when applied to the test data, they do not do so well, as they only learned to correct the training data."
      ]
    },
    {
      "cell_type": "markdown",
      "metadata": {
        "id": "5mZfCQSxo73Q"
      },
      "source": [
        "<img src=\"https://miro.medium.com/max/1450/0*_67X5Zch6SOARORh.png\">"
      ]
    },
    {
      "cell_type": "markdown",
      "metadata": {
        "id": "Ema0jwN7pFz5"
      },
      "source": [
        "In our case I will use both algorithms and see which one works best."
      ]
    },
    {
      "cell_type": "markdown",
      "metadata": {
        "id": "_Sm2V-JqpIwn"
      },
      "source": [
        "#### **Oversampling**:\n",
        "\n",
        "Generation of synthetic data with the SMOTE algorithm (Synthetic Minority Over-sampling Technique)"
      ]
    },
    {
      "cell_type": "code",
      "metadata": {
        "id": "hY1-YF1vMIoo"
      },
      "source": [
        "# resgatandos os valores de X e y:\n",
        "X = df.drop(['enrollee_id','city','target'] , axis=1)\n",
        "y = df['target']"
      ],
      "execution_count": 68,
      "outputs": []
    },
    {
      "cell_type": "code",
      "metadata": {
        "id": "NMWOv2sFoj8D"
      },
      "source": [
        "# importando o SMOTE:\n",
        "from imblearn.over_sampling import SMOTE"
      ],
      "execution_count": 69,
      "outputs": []
    },
    {
      "cell_type": "code",
      "metadata": {
        "id": "G3VMDz8NIwM1"
      },
      "source": [
        "# instanciando o SMOTE:\n",
        "smote = SMOTE()"
      ],
      "execution_count": 70,
      "outputs": []
    },
    {
      "cell_type": "code",
      "metadata": {
        "colab": {
          "base_uri": "https://localhost:8080/"
        },
        "id": "-06TRtl0I0dp",
        "outputId": "57262f86-14ad-41b5-a617-d70fc43bf97b"
      },
      "source": [
        "# aplicando o SMOTE aos nossos dados (\"treinando\"):\n",
        "X , y = smote.fit_sample(X , y)"
      ],
      "execution_count": 71,
      "outputs": [
        {
          "output_type": "stream",
          "text": [
            "/usr/local/lib/python3.7/dist-packages/sklearn/utils/deprecation.py:87: FutureWarning: Function safe_indexing is deprecated; safe_indexing is deprecated in version 0.22 and will be removed in version 0.24.\n",
            "  warnings.warn(msg, category=FutureWarning)\n"
          ],
          "name": "stderr"
        }
      ]
    },
    {
      "cell_type": "code",
      "metadata": {
        "colab": {
          "base_uri": "https://localhost:8080/",
          "height": 337
        },
        "id": "DXIBHFj5I4nh",
        "outputId": "9db935c2-a342-4701-f7e6-bb1fd8aa84e8"
      },
      "source": [
        "# checking the proportion of our target variable data:\n",
        "plt.figure(figsize=(8,5))\n",
        "ax = sns.countplot(x=y)\n",
        "print(\"For each possible classification we have {} data\".format(y.shape[0] / 2))"
      ],
      "execution_count": 72,
      "outputs": [
        {
          "output_type": "stream",
          "text": [
            "For each possible classification we have 11262.0 data\n"
          ],
          "name": "stdout"
        },
        {
          "output_type": "display_data",
          "data": {
            "image/png": "[encoded data removed]",
            "text/plain": [
              "<Figure size 576x360 with 1 Axes>"
            ]
          },
          "metadata": {
            "tags": [],
            "needs_background": "light"
          }
        }
      ]
    },
    {
      "cell_type": "markdown",
      "metadata": {
        "id": "RCkNN9Sfpe0V"
      },
      "source": [
        "notice that we created synthetic data for the values classified as 1 in order to have equal quantities, now we just have to create the model and train to know how it does."
      ]
    },
    {
      "cell_type": "code",
      "metadata": {
        "id": "RCJcK0IYpbMC"
      },
      "source": [
        "# Divisão dos dados:\n",
        "X_treino, X_teste, y_treino, y_teste = train_test_split(X, y, test_size=0.3,stratify = y,shuffle=True,random_state=28)"
      ],
      "execution_count": 73,
      "outputs": []
    },
    {
      "cell_type": "code",
      "metadata": {
        "colab": {
          "base_uri": "https://localhost:8080/"
        },
        "id": "_Zm_HVZ8pjrR",
        "outputId": "0618ccc0-504d-471b-c1a9-96484cad3899"
      },
      "source": [
        "# instanciando o modelo\n",
        "modelo = RandomForestClassifier(random_state=28)\n",
        "\n",
        "# treinando o modelo\n",
        "modelo.fit(X_treino,y_treino)\n",
        "\n",
        "# fazendo previsões com o modelo\n",
        "previsoes = modelo.predict(X_teste)\n",
        "\n",
        "# medindo a acurácia do modelo\n",
        "acuracia = accuracy_score(y_teste,previsoes)\n",
        "\n",
        "print(\"A acurácia foi de: \",acuracia)\n",
        "print(classification_report(y_teste,previsoes))"
      ],
      "execution_count": 74,
      "outputs": [
        {
          "output_type": "stream",
          "text": [
            "A acurácia foi de:  0.8603137022787807\n",
            "              precision    recall  f1-score   support\n",
            "\n",
            "         0.0       0.85      0.88      0.86      3379\n",
            "         1.0       0.87      0.84      0.86      3379\n",
            "\n",
            "    accuracy                           0.86      6758\n",
            "   macro avg       0.86      0.86      0.86      6758\n",
            "weighted avg       0.86      0.86      0.86      6758\n",
            "\n"
          ],
          "name": "stdout"
        }
      ]
    },
    {
      "cell_type": "markdown",
      "metadata": {
        "id": "dk76N8R_ppeT"
      },
      "source": [
        "This time we had both greater accuracy, as we improved our ***precision*** and ***recall*** values, with an overall accuracy rate of ** 85% ** of accuracy."
      ]
    },
    {
      "cell_type": "markdown",
      "metadata": {
        "id": "9hBRRggppusk"
      },
      "source": [
        "#### **Undersampling** :\n",
        "\n",
        "In this case we will decrease the majority data with the NearMiss algorithm"
      ]
    },
    {
      "cell_type": "code",
      "metadata": {
        "id": "nYaicK_lMOSx"
      },
      "source": [
        "# resgatandos os valores de X e y:\n",
        "X = df.drop(['enrollee_id','city','target'] , axis=1)\n",
        "y = df['target']"
      ],
      "execution_count": 75,
      "outputs": []
    },
    {
      "cell_type": "code",
      "metadata": {
        "id": "UgFHC_d7JChq"
      },
      "source": [
        "# Importando o NearMiss\n",
        "from imblearn.under_sampling import NearMiss"
      ],
      "execution_count": 76,
      "outputs": []
    },
    {
      "cell_type": "code",
      "metadata": {
        "id": "n8MLnA5SLoKx"
      },
      "source": [
        "# instanciando o NearMiss\n",
        "nm = NearMiss()"
      ],
      "execution_count": 77,
      "outputs": []
    },
    {
      "cell_type": "code",
      "metadata": {
        "colab": {
          "base_uri": "https://localhost:8080/"
        },
        "id": "nfU4NytDLsyB",
        "outputId": "3f7420b8-ea52-4cb2-8d01-58efe521a3f1"
      },
      "source": [
        "# Aplicando o Near Miss aos nossos dados:\n",
        "X , y = nm.fit_sample(X , y)"
      ],
      "execution_count": 78,
      "outputs": [
        {
          "output_type": "stream",
          "text": [
            "/usr/local/lib/python3.7/dist-packages/sklearn/utils/deprecation.py:87: FutureWarning: Function safe_indexing is deprecated; safe_indexing is deprecated in version 0.22 and will be removed in version 0.24.\n",
            "  warnings.warn(msg, category=FutureWarning)\n",
            "/usr/local/lib/python3.7/dist-packages/sklearn/utils/deprecation.py:87: FutureWarning: Function safe_indexing is deprecated; safe_indexing is deprecated in version 0.22 and will be removed in version 0.24.\n",
            "  warnings.warn(msg, category=FutureWarning)\n",
            "/usr/local/lib/python3.7/dist-packages/sklearn/utils/deprecation.py:87: FutureWarning: Function safe_indexing is deprecated; safe_indexing is deprecated in version 0.22 and will be removed in version 0.24.\n",
            "  warnings.warn(msg, category=FutureWarning)\n"
          ],
          "name": "stderr"
        }
      ]
    },
    {
      "cell_type": "code",
      "metadata": {
        "colab": {
          "base_uri": "https://localhost:8080/",
          "height": 337
        },
        "id": "Qgbue2Nlpkxh",
        "outputId": "fa464f9d-c2e0-4133-f008-42b20fbab868"
      },
      "source": [
        "# checking the proportion of our target variable data:\n",
        "plt.figure(figsize=(8,5))\n",
        "ax = sns.countplot(x=y)\n",
        "print(\"For each possible classification we have {} data\".format(y.shape[0] / 2))"
      ],
      "execution_count": 79,
      "outputs": [
        {
          "output_type": "stream",
          "text": [
            "For each possible classification we have 3388.0 data\n"
          ],
          "name": "stdout"
        },
        {
          "output_type": "display_data",
          "data": {
            "image/png": "[encoded data removed]",
            "text/plain": [
              "<Figure size 576x360 with 1 Axes>"
            ]
          },
          "metadata": {
            "tags": [],
            "needs_background": "light"
          }
        }
      ]
    },
    {
      "cell_type": "markdown",
      "metadata": {
        "id": "lyYRDnBUqe51"
      },
      "source": [
        "In this case, we reduced our data classified as 0 in order to be equal to those classified as 1."
      ]
    },
    {
      "cell_type": "code",
      "metadata": {
        "id": "94kjAZfxMpdp"
      },
      "source": [
        "# Divisão dos dados:\n",
        "X_treino, X_teste, y_treino, y_teste = train_test_split(X, y, test_size=0.3,stratify = y,shuffle=True,random_state=28)"
      ],
      "execution_count": 80,
      "outputs": []
    },
    {
      "cell_type": "code",
      "metadata": {
        "colab": {
          "base_uri": "https://localhost:8080/"
        },
        "id": "k0tnskjaMpdt",
        "outputId": "e49c2885-db47-42a5-b963-373fd03a1809"
      },
      "source": [
        "# instanciando o modelo\n",
        "modelo = RandomForestClassifier(random_state=28)\n",
        "\n",
        "# treinando o modelo\n",
        "modelo.fit(X_treino,y_treino)\n",
        "\n",
        "# fazendo previsões com o modelo\n",
        "previsoes = modelo.predict(X_teste)\n",
        "\n",
        "# medindo a acurácia do modelo\n",
        "acuracia = accuracy_score(y_teste,previsoes)\n",
        "\n",
        "print(\"A acurácia foi de: \",acuracia)\n",
        "print(classification_report(y_teste,previsoes))"
      ],
      "execution_count": 81,
      "outputs": [
        {
          "output_type": "stream",
          "text": [
            "A acurácia foi de:  0.763895720609936\n",
            "              precision    recall  f1-score   support\n",
            "\n",
            "         0.0       0.76      0.77      0.77      1016\n",
            "         1.0       0.77      0.75      0.76      1017\n",
            "\n",
            "    accuracy                           0.76      2033\n",
            "   macro avg       0.76      0.76      0.76      2033\n",
            "weighted avg       0.76      0.76      0.76      2033\n",
            "\n"
          ],
          "name": "stdout"
        }
      ]
    },
    {
      "cell_type": "markdown",
      "metadata": {
        "id": "bPbI6DuhqyCP"
      },
      "source": [
        "Now we can see that our accuracy was lower when compared to SMOTE, but we obtained better values for ***recall*** and ***precision*** when compared to the model without any Oversampling or Undersampling algorithm."
      ]
    },
    {
      "cell_type": "markdown",
      "metadata": {
        "id": "12lE2F9_q8Jv"
      },
      "source": [
        "## Conclusions"
      ]
    },
    {
      "cell_type": "markdown",
      "metadata": {
        "id": "X4hWNAgqrCd3"
      },
      "source": [
        "For our analysis we were able to know today how to deal when we have unbalanced classes using both **SMOTE** (for Oversampling) and **NearMiss** (for Undersampling), as well as their functionality and the problems they can cause for our Machine Learning model.\n",
        "\n",
        "\n",
        "We concluded that for our data, it was best to use **SMOTE**.\n",
        "\n",
        "Of course, both SMOTE and NearMiss receive parameters that can help improve the efficiency of the model, but I prefer to leave that to your discretion, you can ***tunning*** your way."
      ]
    },
    {
      "cell_type": "markdown",
      "metadata": {
        "id": "YR8k1oWtrOah"
      },
      "source": [
        "Thanks for accessing this Google Colab notebook, please consider accessing more of my articles:\n",
        "\n",
        "[LinkedIn](www.linkedin.com/in/luis-miguel-code) <br>\n",
        "[GitHub](https://github.com/LuisMig-code/Portifolio) <br>\n",
        "[Medium](https://luis-miguel-code.medium.com/) "
      ]
    },
    {
      "cell_type": "code",
      "metadata": {
        "id": "ZO14dIdAp9ey"
      },
      "source": [
        ""
      ],
      "execution_count": 81,
      "outputs": []
    }
  ]
}